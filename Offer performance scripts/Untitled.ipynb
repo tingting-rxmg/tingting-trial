{
 "cells": [
  {
   "cell_type": "code",
   "execution_count": 45,
   "metadata": {},
   "outputs": [
    {
     "data": {
      "text/plain": [
       "409938"
      ]
     },
     "execution_count": 45,
     "metadata": {},
     "output_type": "execute_result"
    }
   ],
   "source": [
    "\n",
    "x = [10000, 100003, 100002, 199933]\n",
    "def aVeryBigSum(ar):\n",
    "    n = len(ar)\n",
    "    BigSum = 0\n",
    "    i = 0\n",
    "    while i < n:\n",
    "        BigSum += ar[i]\n",
    "        i += 1\n",
    "    return BigSum\n",
    "\n",
    "\n",
    "aVeryBigSum(x)\n"
   ]
  },
  {
   "cell_type": "code",
   "execution_count": 31,
   "metadata": {},
   "outputs": [
    {
     "data": {
      "text/plain": [
       "4"
      ]
     },
     "execution_count": 31,
     "metadata": {},
     "output_type": "execute_result"
    }
   ],
   "source": [
    "ar =x\n",
    "a = len(ar)\n",
    "a"
   ]
  },
  {
   "cell_type": "code",
   "execution_count": 32,
   "metadata": {},
   "outputs": [],
   "source": [
    "BigSum = 0\n",
    "i = 0"
   ]
  },
  {
   "cell_type": "code",
   "execution_count": 41,
   "metadata": {},
   "outputs": [],
   "source": [
    "BigSum += ar[i]\n"
   ]
  },
  {
   "cell_type": "code",
   "execution_count": 42,
   "metadata": {},
   "outputs": [
    {
     "data": {
      "text/plain": [
       "210005"
      ]
     },
     "execution_count": 42,
     "metadata": {},
     "output_type": "execute_result"
    }
   ],
   "source": [
    "BigSum\n"
   ]
  },
  {
   "cell_type": "code",
   "execution_count": 43,
   "metadata": {},
   "outputs": [],
   "source": [
    "i += 1"
   ]
  },
  {
   "cell_type": "code",
   "execution_count": 44,
   "metadata": {},
   "outputs": [
    {
     "data": {
      "text/plain": [
       "3"
      ]
     },
     "execution_count": 44,
     "metadata": {},
     "output_type": "execute_result"
    }
   ],
   "source": [
    "i"
   ]
  },
  {
   "cell_type": "code",
   "execution_count": 62,
   "metadata": {},
   "outputs": [],
   "source": [
    "arr =[[11,2,4], [4,5,6],[10,8,-12]]"
   ]
  },
  {
   "cell_type": "code",
   "execution_count": 58,
   "metadata": {},
   "outputs": [],
   "source": [
    "n=len(a)"
   ]
  },
  {
   "cell_type": "code",
   "execution_count": 56,
   "metadata": {},
   "outputs": [
    {
     "data": {
      "text/plain": [
       "[[1, 2, 3], [4, 5, 6], [7, 8, 9]]"
      ]
     },
     "execution_count": 56,
     "metadata": {},
     "output_type": "execute_result"
    }
   ],
   "source": [
    "a"
   ]
  },
  {
   "cell_type": "code",
   "execution_count": 63,
   "metadata": {},
   "outputs": [
    {
     "data": {
      "text/plain": [
       "4"
      ]
     },
     "execution_count": 63,
     "metadata": {},
     "output_type": "execute_result"
    }
   ],
   "source": [
    "sum(arr[i][i] for i in range(n))"
   ]
  },
  {
   "cell_type": "code",
   "execution_count": 65,
   "metadata": {},
   "outputs": [
    {
     "data": {
      "text/plain": [
       "19"
      ]
     },
     "execution_count": 65,
     "metadata": {},
     "output_type": "execute_result"
    }
   ],
   "source": [
    "sum(arr[i][n-i-1] for i in range(n))"
   ]
  },
  {
   "cell_type": "code",
   "execution_count": 70,
   "metadata": {},
   "outputs": [
    {
     "name": "stdout",
     "output_type": "stream",
     "text": [
      "0.5714285714285714\n",
      "0.2857142857142857\n",
      "0.14285714285714285\n"
     ]
    }
   ],
   "source": [
    "def plusMinus(arr):\n",
    "    i = 0\n",
    "    num_pos = 0\n",
    "    num_neg = 0\n",
    "    num_0 = 0\n",
    "    n = len(arr)\n",
    "    while i < n:\n",
    "        if arr[i] > 0:\n",
    "            num_pos += 1\n",
    "            i += 1\n",
    "        elif arr[i] < 0:\n",
    "            num_neg += 1\n",
    "            i += 1\n",
    "        elif arr[i] == 0:\n",
    "            num_0 += 1\n",
    "            i += 1\n",
    "    print(num_pos/n)\n",
    "    print (num_neg/n)\n",
    "    print (num_0/n)\n",
    "    \n",
    "\n",
    "x = [1,3,-1,1,-3,2, 0]\n",
    "plusMinus(x)\n",
    "\n",
    "\n",
    "    "
   ]
  },
  {
   "cell_type": "code",
   "execution_count": 91,
   "metadata": {},
   "outputs": [
    {
     "name": "stdout",
     "output_type": "stream",
     "text": [
      "1 1\n",
      "2 1\n"
     ]
    }
   ],
   "source": [
    "def compareTriplets(a, b):\n",
    "    n = len(a)\n",
    "    r_1 = 0\n",
    "    r_2 = 0\n",
    "    i = 0\n",
    "    for i in range(n):\n",
    "        if a[i] > b[i]:\n",
    "            r_1 += 1\n",
    "            i += 1\n",
    "        elif a[i] < b[i]:\n",
    "            r_2 += 1\n",
    "            i += 1\n",
    "        elif a[i] == b[i]:\n",
    "            i += 1\n",
    "    print(r_1, r_2)\n",
    "    \n",
    "a = [5,6,7]\n",
    "b = [3,6,10]\n",
    "c = [17, 28, 30]\n",
    "d = [99, 16, 8]\n",
    "compareTriplets(a, b)\n",
    "compareTriplets(c, d)"
   ]
  },
  {
   "cell_type": "code",
   "execution_count": 84,
   "metadata": {},
   "outputs": [
    {
     "data": {
      "text/plain": [
       "3"
      ]
     },
     "execution_count": 84,
     "metadata": {},
     "output_type": "execute_result"
    }
   ],
   "source": [
    "n"
   ]
  },
  {
   "cell_type": "code",
   "execution_count": null,
   "metadata": {},
   "outputs": [],
   "source": []
  }
 ],
 "metadata": {
  "kernelspec": {
   "display_name": "Python 3",
   "language": "python",
   "name": "python3"
  },
  "language_info": {
   "codemirror_mode": {
    "name": "ipython",
    "version": 3
   },
   "file_extension": ".py",
   "mimetype": "text/x-python",
   "name": "python",
   "nbconvert_exporter": "python",
   "pygments_lexer": "ipython3",
   "version": "3.7.6"
  }
 },
 "nbformat": 4,
 "nbformat_minor": 4
}
